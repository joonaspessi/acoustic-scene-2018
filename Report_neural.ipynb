{
 "cells": [
  {
   "cell_type": "markdown",
   "metadata": {},
   "source": [
    "# SGN-41007 Assignment Task 2 Group 37"
   ]
  },
  {
   "cell_type": "markdown",
   "metadata": {},
   "source": [
    "This is group 37 report for Assignment task 2.\n",
    "\n",
    "This assignment report is made with Jyputer notebook. "
   ]
  },
  {
   "cell_type": "markdown",
   "metadata": {},
   "source": [
    "## Importing dependecies\n",
    "\n",
    "First part of this excercise is to import needed dependencies from Keras, Scikit-learn, Matplotlib and Numpy.\n",
    "Utils is our own utility set for data loading, feature extraction and creating submission files for Kaggle competition."
   ]
  },
  {
   "cell_type": "code",
   "execution_count": 16,
   "metadata": {},
   "outputs": [],
   "source": [
    "from keras.models import Sequential\n",
    "from keras.layers.core import Dense, Flatten\n",
    "from keras.layers import Conv2D, MaxPool2D, Dropout\n",
    "from keras.utils import to_categorical\n",
    "from keras.optimizers import SGD\n",
    "from sklearn.preprocessing import LabelBinarizer\n",
    "from keras.regularizers import l1\n",
    "\n",
    "import matplotlib.pyplot as plt\n",
    "import utils\n",
    "import numpy as np"
   ]
  },
  {
   "cell_type": "markdown",
   "metadata": {},
   "source": [
    "## Using proposed crossvalidation set and extract features\n",
    "\n",
    "Competition assignment suggested to divide dataset to predefined training and cross validation sets.\n",
    "\n",
    "We start with loading full dataset with using our utils method `training_data`.\n",
    "Utility will also encode string labels to integer values. It returns according label encoder for later inverse transform for creating submission back to label encoding."
   ]
  },
  {
   "cell_type": "code",
   "execution_count": 17,
   "metadata": {
    "collapsed": true
   },
   "outputs": [],
   "source": [
    "X, y, X_test, y_label_encoder = utils.training_data()"
   ]
  },
  {
   "cell_type": "markdown",
   "metadata": {},
   "source": [
    "Next we split dataset to given train and cross validation sets by reading `crossvalidation_train.csv` and taking indices from there and creating leave one group out split with our own implementation. During implementing this assignment, we were not familiar with already existing implementation of leave one group out in Sklearn."
   ]
  },
  {
   "cell_type": "code",
   "execution_count": 18,
   "metadata": {
    "collapsed": true
   },
   "outputs": [],
   "source": [
    "X_train, X_cv, y_train, y_cv, cv_indices = utils.split_data(X, y)"
   ]
  },
  {
   "cell_type": "markdown",
   "metadata": {},
   "source": [
    "Implementation of `split data` uses following code"
   ]
  },
  {
   "cell_type": "code",
   "execution_count": 19,
   "metadata": {
    "collapsed": true
   },
   "outputs": [],
   "source": [
    "def split_data_(X_train, y_train):\n",
    "    y_cv_split = np.array(pd.read_csv(\"data/crossvalidation_train.csv\"))\n",
    "    train_indices = y_cv_split[y_cv_split[:,2] == \"train\"][:,0].astype(int)\n",
    "    test_indices = y_cv_split[y_cv_split[:,2] == \"test\"][:,0].astype(int)\n",
    "\n",
    "    X_test = X_train[train_indices, :]\n",
    "    X_cv = X_train[test_indices, :]\n",
    "\n",
    "    y_test = y_train[train_indices]\n",
    "    y_cv = y_train[test_indices]\n",
    "\n",
    "    # Array which contains \"test\" values marked as True and \"train\" as false\n",
    "    mask = y_cv_split[:, 2]  == \"test\"\n",
    "    mask = mask.astype(int)\n",
    "    # \"test\" values marked as 0 and train values \"-1\" \n",
    "    mask -= 1\n",
    "    cv_split_indices = PredefinedSplit(mask).split()\n",
    "\n",
    "    return X_test, X_cv, y_test, y_cv, cv_split_indices"
   ]
  },
  {
   "cell_type": "markdown",
   "metadata": {},
   "source": [
    "After this we will do label binarization for y values and also add new dimension to Training data set for 2d convolution and transpose spectrogram axes."
   ]
  },
  {
   "cell_type": "code",
   "execution_count": 20,
   "metadata": {},
   "outputs": [],
   "source": [
    "y_train = to_categorical(y_train)\n",
    "y_cv = to_categorical(y_cv)\n",
    "\n",
    "lb = LabelBinarizer()\n",
    "lb.fit(y_train)\n",
    "y_train = lb.transform(y_train)\n",
    "y_test = lb.transform(y_cv)\n",
    "num_classes = y_full.shape[1]\n",
    "\n",
    "X_train = np.transpose(X_train, (0, 2, 1))\n",
    "X_cv = np.transpose(X_cv, (0, 2, 1))\n",
    "X_test = np.transpose(X_test, (0, 2, 1))\n",
    "\n",
    "X_train = X_train[..., np.newaxis]\n",
    "X_cv = X_cv[..., np.newaxis]\n",
    "X_test = X_test[..., np.newaxis]"
   ]
  },
  {
   "cell_type": "markdown",
   "metadata": {},
   "source": [
    "## Defining a convolutional network with Keras\n",
    "\n",
    "Now we are ready to make Keras model with improved convolutional neural network.\n",
    "\n",
    "This network have combined multiple convolution layers with maxpooling between them and l1 regularization for kernel. Main pattern is to have two convolution layer followed by max pooling. Finally network have Dense layers which are regularized with dropout regularization."
   ]
  },
  {
   "cell_type": "code",
   "execution_count": 21,
   "metadata": {},
   "outputs": [
    {
     "name": "stdout",
     "output_type": "stream",
     "text": [
      "_________________________________________________________________\n",
      "Layer (type)                 Output Shape              Param #   \n",
      "=================================================================\n",
      "conv2d_7 (Conv2D)            (None, 501, 40, 32)       320       \n",
      "_________________________________________________________________\n",
      "conv2d_8 (Conv2D)            (None, 501, 40, 32)       9248      \n",
      "_________________________________________________________________\n",
      "max_pooling2d_4 (MaxPooling2 (None, 250, 20, 32)       0         \n",
      "_________________________________________________________________\n",
      "conv2d_9 (Conv2D)            (None, 250, 20, 32)       9248      \n",
      "_________________________________________________________________\n",
      "conv2d_10 (Conv2D)           (None, 250, 20, 32)       9248      \n",
      "_________________________________________________________________\n",
      "max_pooling2d_5 (MaxPooling2 (None, 125, 10, 32)       0         \n",
      "_________________________________________________________________\n",
      "conv2d_11 (Conv2D)           (None, 125, 10, 32)       9248      \n",
      "_________________________________________________________________\n",
      "conv2d_12 (Conv2D)           (None, 125, 10, 32)       9248      \n",
      "_________________________________________________________________\n",
      "max_pooling2d_6 (MaxPooling2 (None, 62, 5, 32)         0         \n",
      "_________________________________________________________________\n",
      "flatten_2 (Flatten)          (None, 9920)              0         \n",
      "_________________________________________________________________\n",
      "dense_5 (Dense)              (None, 128)               1269888   \n",
      "_________________________________________________________________\n",
      "dropout_3 (Dropout)          (None, 128)               0         \n",
      "_________________________________________________________________\n",
      "dense_6 (Dense)              (None, 128)               16512     \n",
      "_________________________________________________________________\n",
      "dropout_4 (Dropout)          (None, 128)               0         \n",
      "_________________________________________________________________\n",
      "dense_7 (Dense)              (None, 128)               16512     \n",
      "_________________________________________________________________\n",
      "dense_8 (Dense)              (None, 15)                1935      \n",
      "=================================================================\n",
      "Total params: 1,351,407\n",
      "Trainable params: 1,351,407\n",
      "Non-trainable params: 0\n",
      "_________________________________________________________________\n"
     ]
    }
   ],
   "source": [
    "model = Sequential()\n",
    "\n",
    "model.add(Conv2D(filters=32,\n",
    "                 kernel_size=(3, 3),\n",
    "                 activation='relu',\n",
    "                 padding='same',\n",
    "                 kernel_regularizer=l1(0.01),\n",
    "                 input_shape=(501, 40, 1))),\n",
    "\n",
    "\n",
    "model.add(Conv2D(filters=32,\n",
    "                 kernel_size=(3, 3),\n",
    "                 padding='same',\n",
    "                 kernel_regularizer=l1(0.01),\n",
    "                 activation='relu'))\n",
    "\n",
    "model.add(MaxPool2D(2, 2))\n",
    "\n",
    "model.add(Conv2D(filters=32,\n",
    "                 kernel_size=(3, 3),\n",
    "                 padding='same',\n",
    "                 kernel_regularizer=l1(0.01),\n",
    "                 activation='relu'))\n",
    "\n",
    "model.add(Conv2D(filters=32,\n",
    "                 kernel_size=(3, 3),\n",
    "                 padding='same',\n",
    "                 kernel_regularizer=l1(0.01),\n",
    "                 activation='relu'))\n",
    "\n",
    "model.add(MaxPool2D(2, 2))\n",
    "\n",
    "model.add(Conv2D(filters=32,\n",
    "                 kernel_size=(3, 3),\n",
    "                 padding='same',\n",
    "                 kernel_regularizer=l1(0.01),\n",
    "                 activation='relu'))\n",
    "\n",
    "model.add(Conv2D(filters=32,\n",
    "                 kernel_size=(3, 3),\n",
    "                 padding='same',\n",
    "                 kernel_regularizer=l1(0.01),\n",
    "                 activation='relu'))\n",
    "\n",
    "model.add(MaxPool2D(2, 2))\n",
    "\n",
    "model.add(Flatten())\n",
    "\n",
    "model.add(Dense(128, activation='relu'))\n",
    "model.add(Dropout(0.2))\n",
    "model.add(Dense(128, activation='relu'))\n",
    "model.add(Dropout(0.2))\n",
    "model.add(Dense(128, activation='relu'))\n",
    "\n",
    "model.add(Dense(y_train.shape[1], activation='softmax'))\n",
    "\n",
    "model.summary()\n",
    "\n",
    "optimizer = SGD(lr=1e-3)\n",
    "\n",
    "model.compile(optimizer = optimizer,\n",
    "              loss = 'categorical_crossentropy',\n",
    "              metrics = ['accuracy'])"
   ]
  },
  {
   "cell_type": "markdown",
   "metadata": {},
   "source": [
    "## Training the convolutional network\n",
    "\n",
    "Now we are ready to train the network with stochastic gradient descent optimizer and cross validate it with predefined split dataset.\n",
    "\n",
    "For this report we only use epochs=10, because lack of proper gpu for faster calculations. "
   ]
  },
  {
   "cell_type": "code",
   "execution_count": 24,
   "metadata": {},
   "outputs": [
    {
     "name": "stdout",
     "output_type": "stream",
     "text": [
      "Train on 3268 samples, validate on 1232 samples\n",
      "Epoch 1/10\n",
      "3268/3268 [==============================] - 176s 54ms/step - loss: 19.7408 - acc: 0.0805 - val_loss: 19.5343 - val_acc: 0.1023\n",
      "Epoch 2/10\n",
      "3268/3268 [==============================] - 174s 53ms/step - loss: 19.3392 - acc: 0.0924 - val_loss: 19.1355 - val_acc: 0.1169\n",
      "Epoch 3/10\n",
      "3268/3268 [==============================] - 175s 53ms/step - loss: 18.9428 - acc: 0.0799 - val_loss: 18.7415 - val_acc: 0.0771\n",
      "Epoch 4/10\n",
      "3268/3268 [==============================] - 174s 53ms/step - loss: 18.5509 - acc: 0.0860 - val_loss: 18.3524 - val_acc: 0.0844\n",
      "Epoch 5/10\n",
      "3268/3268 [==============================] - 175s 54ms/step - loss: 18.1641 - acc: 0.0921 - val_loss: 17.9680 - val_acc: 0.0844\n",
      "Epoch 6/10\n",
      "3268/3268 [==============================] - 176s 54ms/step - loss: 17.7821 - acc: 0.1010 - val_loss: 17.5886 - val_acc: 0.1112\n",
      "Epoch 7/10\n",
      "3268/3268 [==============================] - 176s 54ms/step - loss: 17.4050 - acc: 0.0900 - val_loss: 17.2136 - val_acc: 0.1055\n",
      "Epoch 8/10\n",
      "3268/3268 [==============================] - 176s 54ms/step - loss: 17.0320 - acc: 0.1013 - val_loss: 16.8433 - val_acc: 0.1120\n",
      "Epoch 9/10\n",
      "3268/3268 [==============================] - 176s 54ms/step - loss: 16.6638 - acc: 0.0988 - val_loss: 16.4777 - val_acc: 0.1218\n",
      "Epoch 10/10\n",
      "3268/3268 [==============================] - 176s 54ms/step - loss: 16.3003 - acc: 0.1019 - val_loss: 16.1164 - val_acc: 0.1136\n"
     ]
    }
   ],
   "source": [
    "optimizer = SGD(lr=1e-3)\n",
    "\n",
    "history = model.fit(X_train, y_train, epochs=10, validation_data=(X_cv, y_cv))"
   ]
  },
  {
   "cell_type": "code",
   "execution_count": 25,
   "metadata": {},
   "outputs": [
    {
     "data": {
      "image/png": "[encoded data removed]",
      "text/plain": [
       "<matplotlib.figure.Figure at 0x1111b36a0>"
      ]
     },
     "metadata": {},
     "output_type": "display_data"
    }
   ],
   "source": [
    "fig, ax = plt.subplots(2, 1)\n",
    "ax[0].plot(history.history['acc'], 'ro-', label = \"Train Accuracy\")\n",
    "ax[0].plot(history.history['val_acc'], 'go-', label = \"Test Accuracy\")\n",
    "ax[0].set_xlabel(\"Epoch\")\n",
    "ax[0].set_ylabel(\"Accuracy / %\")\n",
    "ax[0].legend(loc = \"best\")\n",
    "ax[0].grid('on')\n",
    "\n",
    "ax[1].plot(history.history['loss'], 'ro-', label = \"Train Loss\")\n",
    "ax[1].plot(history.history['val_loss'], 'go-', label = \"Test Loss\")\n",
    "ax[1].set_xlabel(\"Epoch\")\n",
    "ax[1].set_ylabel(\"Loss\")\n",
    "ax[1].legend(loc = \"best\")\n",
    "ax[1].grid('on')\n",
    "\n",
    "plt.tight_layout()\n",
    "plt.show()"
   ]
  },
  {
   "cell_type": "markdown",
   "metadata": {},
   "source": [
    "With ten epochs we are able to reach approximately 10% accuracy. Loss is decreasing constantly and we could assume that more epochs would improve accuracy.\n",
    "\n",
    "In our local training setup, we were able to reach approximately 70% prediction accuracy against cross validation set with 80 epochs."
   ]
  },
  {
   "cell_type": "markdown",
   "metadata": {},
   "source": [
    "## Final training and submission\n",
    "For final submission we trained the network with full dataset without splitting dataset to cross validation set.\n",
    "We used 80 epochs to fit the network which took approximately 6h to train with Intel i7 2,5Ghz CPU on Macbook pro.\n",
    "\n",
    "Final training gave us 83.98% accuracy and loss of 0.4393\n",
    "\n",
    "Epoch 80/80\n",
    "4500/4500 [==============================] - 199s 44ms/step - loss: 0.4393 - acc: 0.8398\n",
    "\n",
    "Given network gave us public score of `60.933%` prediction accuracy"
   ]
  }
 ],
 "metadata": {
  "kernelspec": {
   "display_name": "Python 3",
   "language": "python",
   "name": "python3"
  },
  "language_info": {
   "codemirror_mode": {
    "name": "ipython",
    "version": 3
   },
   "file_extension": ".py",
   "mimetype": "text/x-python",
   "name": "python",
   "nbconvert_exporter": "python",
   "pygments_lexer": "ipython3",
   "version": "3.6.3"
  }
 },
 "nbformat": 4,
 "nbformat_minor": 2
}
